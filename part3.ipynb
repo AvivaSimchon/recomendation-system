{
 "cells": [
  {
   "cell_type": "code",
   "execution_count": 2,
   "metadata": {},
   "outputs": [],
   "source": [
    "#contact based\n",
    "\n",
    "import pandas as pd\n"
   ]
  },
  {
   "cell_type": "code",
   "execution_count": 3,
   "metadata": {},
   "outputs": [
    {
     "data": {
      "text/plain": [
       "(5000, 14)"
      ]
     },
     "execution_count": 3,
     "metadata": {},
     "output_type": "execute_result"
    }
   ],
   "source": [
    "books =  pd.read_excel(\"books.xlsx\")\n",
    "\n",
    "\n",
    "books.title.fillna(books.original_title, inplace=True)\n",
    "books.original_title.fillna(books.title, inplace=True)\n",
    "\n",
    "books.shape\n",
    "#books.head()\n",
    "\n"
   ]
  },
  {
   "cell_type": "code",
   "execution_count": null,
   "metadata": {},
   "outputs": [],
   "source": [
    "books[books['original_title']== None]"
   ]
  },
  {
   "cell_type": "code",
   "execution_count": null,
   "metadata": {},
   "outputs": [],
   "source": [
    "books.iloc[323]"
   ]
  },
  {
   "cell_type": "code",
   "execution_count": null,
   "metadata": {},
   "outputs": [],
   "source": [
    "\n",
    "# Import linear_kernel\n",
    "from sklearn.metrics.pairwise import linear_kernel"
   ]
  },
  {
   "cell_type": "code",
   "execution_count": 4,
   "metadata": {},
   "outputs": [],
   "source": [
    "#dictionary for bookid\n",
    "book_id_mapping = {j:i for i,j in enumerate (sorted(books.book_id.unique()))}"
   ]
  },
  {
   "cell_type": "code",
   "execution_count": 5,
   "metadata": {},
   "outputs": [
    {
     "data": {
      "text/html": [
       "<div>\n",
       "<style scoped>\n",
       "    .dataframe tbody tr th:only-of-type {\n",
       "        vertical-align: middle;\n",
       "    }\n",
       "\n",
       "    .dataframe tbody tr th {\n",
       "        vertical-align: top;\n",
       "    }\n",
       "\n",
       "    .dataframe thead th {\n",
       "        text-align: right;\n",
       "    }\n",
       "</style>\n",
       "<table border=\"1\" class=\"dataframe\">\n",
       "  <thead>\n",
       "    <tr style=\"text-align: right;\">\n",
       "      <th></th>\n",
       "      <th>book_id</th>\n",
       "      <th>goodreads_book_id</th>\n",
       "      <th>best_book_id</th>\n",
       "      <th>work_id</th>\n",
       "      <th>books_count</th>\n",
       "      <th>isbn</th>\n",
       "      <th>isbn13</th>\n",
       "      <th>authors</th>\n",
       "      <th>original_publication_year</th>\n",
       "      <th>original_title</th>\n",
       "      <th>title</th>\n",
       "      <th>language_code</th>\n",
       "      <th>image_url</th>\n",
       "      <th>small_image_url</th>\n",
       "      <th>dic_book</th>\n",
       "    </tr>\n",
       "  </thead>\n",
       "  <tbody>\n",
       "    <tr>\n",
       "      <th>0</th>\n",
       "      <td>1</td>\n",
       "      <td>2767052</td>\n",
       "      <td>2767052</td>\n",
       "      <td>2792775</td>\n",
       "      <td>272</td>\n",
       "      <td>439023483</td>\n",
       "      <td>9.780440e+12</td>\n",
       "      <td>Suzanne Collins</td>\n",
       "      <td>2008.0</td>\n",
       "      <td>The Hunger Games</td>\n",
       "      <td>The Hunger Games (The Hunger Games, #1)</td>\n",
       "      <td>eng</td>\n",
       "      <td>https://images.gr-assets.com/books/1447303603m...</td>\n",
       "      <td>https://images.gr-assets.com/books/1447303603s...</td>\n",
       "      <td>0</td>\n",
       "    </tr>\n",
       "    <tr>\n",
       "      <th>1</th>\n",
       "      <td>2</td>\n",
       "      <td>3</td>\n",
       "      <td>3</td>\n",
       "      <td>4640799</td>\n",
       "      <td>491</td>\n",
       "      <td>439554934</td>\n",
       "      <td>9.780440e+12</td>\n",
       "      <td>J.K. Rowling, Mary GrandPrֳƒֲƒֳ‚ֲ©</td>\n",
       "      <td>1997.0</td>\n",
       "      <td>Harry Potter and the Philosopher's Stone</td>\n",
       "      <td>Harry Potter and the Sorcerer's Stone (Harry P...</td>\n",
       "      <td>eng</td>\n",
       "      <td>https://images.gr-assets.com/books/1474154022m...</td>\n",
       "      <td>https://images.gr-assets.com/books/1474154022s...</td>\n",
       "      <td>1</td>\n",
       "    </tr>\n",
       "    <tr>\n",
       "      <th>2</th>\n",
       "      <td>3</td>\n",
       "      <td>41865</td>\n",
       "      <td>41865</td>\n",
       "      <td>3212258</td>\n",
       "      <td>226</td>\n",
       "      <td>316015849</td>\n",
       "      <td>9.780320e+12</td>\n",
       "      <td>Stephenie Meyer</td>\n",
       "      <td>2005.0</td>\n",
       "      <td>Twilight</td>\n",
       "      <td>Twilight (Twilight, #1)</td>\n",
       "      <td>en-US</td>\n",
       "      <td>https://images.gr-assets.com/books/1361039443m...</td>\n",
       "      <td>https://images.gr-assets.com/books/1361039443s...</td>\n",
       "      <td>2</td>\n",
       "    </tr>\n",
       "    <tr>\n",
       "      <th>3</th>\n",
       "      <td>4</td>\n",
       "      <td>2657</td>\n",
       "      <td>2657</td>\n",
       "      <td>3275794</td>\n",
       "      <td>487</td>\n",
       "      <td>61120081</td>\n",
       "      <td>9.780060e+12</td>\n",
       "      <td>Harper Lee</td>\n",
       "      <td>1960.0</td>\n",
       "      <td>To Kill a Mockingbird</td>\n",
       "      <td>To Kill a Mockingbird</td>\n",
       "      <td>eng</td>\n",
       "      <td>https://images.gr-assets.com/books/1361975680m...</td>\n",
       "      <td>https://images.gr-assets.com/books/1361975680s...</td>\n",
       "      <td>3</td>\n",
       "    </tr>\n",
       "    <tr>\n",
       "      <th>4</th>\n",
       "      <td>5</td>\n",
       "      <td>4671</td>\n",
       "      <td>4671</td>\n",
       "      <td>245494</td>\n",
       "      <td>1356</td>\n",
       "      <td>743273567</td>\n",
       "      <td>9.780740e+12</td>\n",
       "      <td>F. Scott Fitzgerald</td>\n",
       "      <td>1925.0</td>\n",
       "      <td>The Great Gatsby</td>\n",
       "      <td>The Great Gatsby</td>\n",
       "      <td>eng</td>\n",
       "      <td>https://images.gr-assets.com/books/1490528560m...</td>\n",
       "      <td>https://images.gr-assets.com/books/1490528560s...</td>\n",
       "      <td>4</td>\n",
       "    </tr>\n",
       "  </tbody>\n",
       "</table>\n",
       "</div>"
      ],
      "text/plain": [
       "   book_id  goodreads_book_id  best_book_id  work_id  books_count       isbn  \\\n",
       "0        1            2767052       2767052  2792775          272  439023483   \n",
       "1        2                  3             3  4640799          491  439554934   \n",
       "2        3              41865         41865  3212258          226  316015849   \n",
       "3        4               2657          2657  3275794          487   61120081   \n",
       "4        5               4671          4671   245494         1356  743273567   \n",
       "\n",
       "         isbn13                             authors  \\\n",
       "0  9.780440e+12                     Suzanne Collins   \n",
       "1  9.780440e+12  J.K. Rowling, Mary GrandPrֳƒֲƒֳ‚ֲ©   \n",
       "2  9.780320e+12                     Stephenie Meyer   \n",
       "3  9.780060e+12                          Harper Lee   \n",
       "4  9.780740e+12                 F. Scott Fitzgerald   \n",
       "\n",
       "   original_publication_year                            original_title  \\\n",
       "0                     2008.0                          The Hunger Games   \n",
       "1                     1997.0  Harry Potter and the Philosopher's Stone   \n",
       "2                     2005.0                                  Twilight   \n",
       "3                     1960.0                     To Kill a Mockingbird   \n",
       "4                     1925.0                          The Great Gatsby   \n",
       "\n",
       "                                               title language_code  \\\n",
       "0            The Hunger Games (The Hunger Games, #1)           eng   \n",
       "1  Harry Potter and the Sorcerer's Stone (Harry P...           eng   \n",
       "2                            Twilight (Twilight, #1)         en-US   \n",
       "3                              To Kill a Mockingbird           eng   \n",
       "4                                   The Great Gatsby           eng   \n",
       "\n",
       "                                           image_url  \\\n",
       "0  https://images.gr-assets.com/books/1447303603m...   \n",
       "1  https://images.gr-assets.com/books/1474154022m...   \n",
       "2  https://images.gr-assets.com/books/1361039443m...   \n",
       "3  https://images.gr-assets.com/books/1361975680m...   \n",
       "4  https://images.gr-assets.com/books/1490528560m...   \n",
       "\n",
       "                                     small_image_url  dic_book  \n",
       "0  https://images.gr-assets.com/books/1447303603s...         0  \n",
       "1  https://images.gr-assets.com/books/1474154022s...         1  \n",
       "2  https://images.gr-assets.com/books/1361039443s...         2  \n",
       "3  https://images.gr-assets.com/books/1361975680s...         3  \n",
       "4  https://images.gr-assets.com/books/1490528560s...         4  "
      ]
     },
     "execution_count": 5,
     "metadata": {},
     "output_type": "execute_result"
    }
   ],
   "source": [
    "#matrix\n",
    "books[\"dic_book\"] = books.book_id.map(lambda x: book_id_mapping[x] )\n",
    "\n",
    "books.head()"
   ]
  },
  {
   "cell_type": "code",
   "execution_count": 6,
   "metadata": {},
   "outputs": [
    {
     "data": {
      "text/plain": [
       "2551"
      ]
     },
     "execution_count": 6,
     "metadata": {},
     "output_type": "execute_result"
    }
   ],
   "source": [
    "len(books.authors.unique())"
   ]
  },
  {
   "cell_type": "code",
   "execution_count": null,
   "metadata": {},
   "outputs": [],
   "source": [
    "#books.fillna(0)"
   ]
  },
  {
   "cell_type": "code",
   "execution_count": 7,
   "metadata": {},
   "outputs": [],
   "source": [
    "df_rating = pd.read_csv(\"ratings.csv\")\n",
    "df_agg = df_rating.groupby('book_id').rating.agg(['mean','count'])\n",
    "df_agg.reset_index(inplace=True)\n",
    "books = pd.merge(books, df_agg, how=\"inner\", on=[\"book_id\"])\n"
   ]
  },
  {
   "cell_type": "code",
   "execution_count": 8,
   "metadata": {},
   "outputs": [
    {
     "data": {
      "text/html": [
       "<div>\n",
       "<style scoped>\n",
       "    .dataframe tbody tr th:only-of-type {\n",
       "        vertical-align: middle;\n",
       "    }\n",
       "\n",
       "    .dataframe tbody tr th {\n",
       "        vertical-align: top;\n",
       "    }\n",
       "\n",
       "    .dataframe thead th {\n",
       "        text-align: right;\n",
       "    }\n",
       "</style>\n",
       "<table border=\"1\" class=\"dataframe\">\n",
       "  <thead>\n",
       "    <tr style=\"text-align: right;\">\n",
       "      <th></th>\n",
       "      <th>book_id</th>\n",
       "      <th>goodreads_book_id</th>\n",
       "      <th>best_book_id</th>\n",
       "      <th>work_id</th>\n",
       "      <th>books_count</th>\n",
       "      <th>isbn</th>\n",
       "      <th>isbn13</th>\n",
       "      <th>authors</th>\n",
       "      <th>original_publication_year</th>\n",
       "      <th>original_title</th>\n",
       "      <th>title</th>\n",
       "      <th>language_code</th>\n",
       "      <th>image_url</th>\n",
       "      <th>small_image_url</th>\n",
       "      <th>dic_book</th>\n",
       "      <th>mean</th>\n",
       "      <th>count</th>\n",
       "    </tr>\n",
       "  </thead>\n",
       "  <tbody>\n",
       "    <tr>\n",
       "      <th>0</th>\n",
       "      <td>1</td>\n",
       "      <td>2767052</td>\n",
       "      <td>2767052</td>\n",
       "      <td>2792775</td>\n",
       "      <td>272</td>\n",
       "      <td>439023483</td>\n",
       "      <td>9.780440e+12</td>\n",
       "      <td>Suzanne Collins</td>\n",
       "      <td>2008.0</td>\n",
       "      <td>The Hunger Games</td>\n",
       "      <td>The Hunger Games (The Hunger Games, #1)</td>\n",
       "      <td>eng</td>\n",
       "      <td>https://images.gr-assets.com/books/1447303603m...</td>\n",
       "      <td>https://images.gr-assets.com/books/1447303603s...</td>\n",
       "      <td>0</td>\n",
       "      <td>4.238662</td>\n",
       "      <td>1764</td>\n",
       "    </tr>\n",
       "    <tr>\n",
       "      <th>1</th>\n",
       "      <td>2</td>\n",
       "      <td>3</td>\n",
       "      <td>3</td>\n",
       "      <td>4640799</td>\n",
       "      <td>491</td>\n",
       "      <td>439554934</td>\n",
       "      <td>9.780440e+12</td>\n",
       "      <td>J.K. Rowling, Mary GrandPrֳƒֲƒֳ‚ֲ©</td>\n",
       "      <td>1997.0</td>\n",
       "      <td>Harry Potter and the Philosopher's Stone</td>\n",
       "      <td>Harry Potter and the Sorcerer's Stone (Harry P...</td>\n",
       "      <td>eng</td>\n",
       "      <td>https://images.gr-assets.com/books/1474154022m...</td>\n",
       "      <td>https://images.gr-assets.com/books/1474154022s...</td>\n",
       "      <td>1</td>\n",
       "      <td>4.058140</td>\n",
       "      <td>1634</td>\n",
       "    </tr>\n",
       "    <tr>\n",
       "      <th>2</th>\n",
       "      <td>3</td>\n",
       "      <td>41865</td>\n",
       "      <td>41865</td>\n",
       "      <td>3212258</td>\n",
       "      <td>226</td>\n",
       "      <td>316015849</td>\n",
       "      <td>9.780320e+12</td>\n",
       "      <td>Stephenie Meyer</td>\n",
       "      <td>2005.0</td>\n",
       "      <td>Twilight</td>\n",
       "      <td>Twilight (Twilight, #1)</td>\n",
       "      <td>en-US</td>\n",
       "      <td>https://images.gr-assets.com/books/1361039443m...</td>\n",
       "      <td>https://images.gr-assets.com/books/1361039443s...</td>\n",
       "      <td>2</td>\n",
       "      <td>3.376528</td>\n",
       "      <td>1227</td>\n",
       "    </tr>\n",
       "    <tr>\n",
       "      <th>3</th>\n",
       "      <td>4</td>\n",
       "      <td>2657</td>\n",
       "      <td>2657</td>\n",
       "      <td>3275794</td>\n",
       "      <td>487</td>\n",
       "      <td>61120081</td>\n",
       "      <td>9.780060e+12</td>\n",
       "      <td>Harper Lee</td>\n",
       "      <td>1960.0</td>\n",
       "      <td>To Kill a Mockingbird</td>\n",
       "      <td>To Kill a Mockingbird</td>\n",
       "      <td>eng</td>\n",
       "      <td>https://images.gr-assets.com/books/1361975680m...</td>\n",
       "      <td>https://images.gr-assets.com/books/1361975680s...</td>\n",
       "      <td>3</td>\n",
       "      <td>4.364625</td>\n",
       "      <td>1747</td>\n",
       "    </tr>\n",
       "    <tr>\n",
       "      <th>4</th>\n",
       "      <td>5</td>\n",
       "      <td>4671</td>\n",
       "      <td>4671</td>\n",
       "      <td>245494</td>\n",
       "      <td>1356</td>\n",
       "      <td>743273567</td>\n",
       "      <td>9.780740e+12</td>\n",
       "      <td>F. Scott Fitzgerald</td>\n",
       "      <td>1925.0</td>\n",
       "      <td>The Great Gatsby</td>\n",
       "      <td>The Great Gatsby</td>\n",
       "      <td>eng</td>\n",
       "      <td>https://images.gr-assets.com/books/1490528560m...</td>\n",
       "      <td>https://images.gr-assets.com/books/1490528560s...</td>\n",
       "      <td>4</td>\n",
       "      <td>3.748036</td>\n",
       "      <td>1655</td>\n",
       "    </tr>\n",
       "  </tbody>\n",
       "</table>\n",
       "</div>"
      ],
      "text/plain": [
       "   book_id  goodreads_book_id  best_book_id  work_id  books_count       isbn  \\\n",
       "0        1            2767052       2767052  2792775          272  439023483   \n",
       "1        2                  3             3  4640799          491  439554934   \n",
       "2        3              41865         41865  3212258          226  316015849   \n",
       "3        4               2657          2657  3275794          487   61120081   \n",
       "4        5               4671          4671   245494         1356  743273567   \n",
       "\n",
       "         isbn13                             authors  \\\n",
       "0  9.780440e+12                     Suzanne Collins   \n",
       "1  9.780440e+12  J.K. Rowling, Mary GrandPrֳƒֲƒֳ‚ֲ©   \n",
       "2  9.780320e+12                     Stephenie Meyer   \n",
       "3  9.780060e+12                          Harper Lee   \n",
       "4  9.780740e+12                 F. Scott Fitzgerald   \n",
       "\n",
       "   original_publication_year                            original_title  \\\n",
       "0                     2008.0                          The Hunger Games   \n",
       "1                     1997.0  Harry Potter and the Philosopher's Stone   \n",
       "2                     2005.0                                  Twilight   \n",
       "3                     1960.0                     To Kill a Mockingbird   \n",
       "4                     1925.0                          The Great Gatsby   \n",
       "\n",
       "                                               title language_code  \\\n",
       "0            The Hunger Games (The Hunger Games, #1)           eng   \n",
       "1  Harry Potter and the Sorcerer's Stone (Harry P...           eng   \n",
       "2                            Twilight (Twilight, #1)         en-US   \n",
       "3                              To Kill a Mockingbird           eng   \n",
       "4                                   The Great Gatsby           eng   \n",
       "\n",
       "                                           image_url  \\\n",
       "0  https://images.gr-assets.com/books/1447303603m...   \n",
       "1  https://images.gr-assets.com/books/1474154022m...   \n",
       "2  https://images.gr-assets.com/books/1361039443m...   \n",
       "3  https://images.gr-assets.com/books/1361975680m...   \n",
       "4  https://images.gr-assets.com/books/1490528560m...   \n",
       "\n",
       "                                     small_image_url  dic_book      mean  \\\n",
       "0  https://images.gr-assets.com/books/1447303603s...         0  4.238662   \n",
       "1  https://images.gr-assets.com/books/1474154022s...         1  4.058140   \n",
       "2  https://images.gr-assets.com/books/1361039443s...         2  3.376528   \n",
       "3  https://images.gr-assets.com/books/1361975680s...         3  4.364625   \n",
       "4  https://images.gr-assets.com/books/1490528560s...         4  3.748036   \n",
       "\n",
       "   count  \n",
       "0   1764  \n",
       "1   1634  \n",
       "2   1227  \n",
       "3   1747  \n",
       "4   1655  "
      ]
     },
     "execution_count": 8,
     "metadata": {},
     "output_type": "execute_result"
    }
   ],
   "source": [
    "books.head()"
   ]
  },
  {
   "cell_type": "code",
   "execution_count": 9,
   "metadata": {},
   "outputs": [],
   "source": [
    "books['lang_code'] = (pd.factorize(books[\"language_code\"])[0])+1"
   ]
  },
  {
   "cell_type": "code",
   "execution_count": 30,
   "metadata": {},
   "outputs": [
    {
     "data": {
      "text/html": [
       "<div>\n",
       "<style scoped>\n",
       "    .dataframe tbody tr th:only-of-type {\n",
       "        vertical-align: middle;\n",
       "    }\n",
       "\n",
       "    .dataframe tbody tr th {\n",
       "        vertical-align: top;\n",
       "    }\n",
       "\n",
       "    .dataframe thead th {\n",
       "        text-align: right;\n",
       "    }\n",
       "</style>\n",
       "<table border=\"1\" class=\"dataframe\">\n",
       "  <thead>\n",
       "    <tr style=\"text-align: right;\">\n",
       "      <th></th>\n",
       "      <th>original_publication_year</th>\n",
       "      <th>books_count</th>\n",
       "      <th>best_book_id</th>\n",
       "    </tr>\n",
       "  </thead>\n",
       "  <tbody>\n",
       "    <tr>\n",
       "      <th>0</th>\n",
       "      <td>2008.0</td>\n",
       "      <td>272</td>\n",
       "      <td>2767052</td>\n",
       "    </tr>\n",
       "    <tr>\n",
       "      <th>1</th>\n",
       "      <td>1997.0</td>\n",
       "      <td>491</td>\n",
       "      <td>3</td>\n",
       "    </tr>\n",
       "    <tr>\n",
       "      <th>2</th>\n",
       "      <td>2005.0</td>\n",
       "      <td>226</td>\n",
       "      <td>41865</td>\n",
       "    </tr>\n",
       "    <tr>\n",
       "      <th>3</th>\n",
       "      <td>1960.0</td>\n",
       "      <td>487</td>\n",
       "      <td>2657</td>\n",
       "    </tr>\n",
       "    <tr>\n",
       "      <th>4</th>\n",
       "      <td>1925.0</td>\n",
       "      <td>1356</td>\n",
       "      <td>4671</td>\n",
       "    </tr>\n",
       "  </tbody>\n",
       "</table>\n",
       "</div>"
      ],
      "text/plain": [
       "   original_publication_year  books_count  best_book_id\n",
       "0                     2008.0          272       2767052\n",
       "1                     1997.0          491             3\n",
       "2                     2005.0          226         41865\n",
       "3                     1960.0          487          2657\n",
       "4                     1925.0         1356          4671"
      ]
     },
     "execution_count": 30,
     "metadata": {},
     "output_type": "execute_result"
    }
   ],
   "source": [
    "df_for_cosine = books[['original_publication_year','books_count','best_book_id']]\n",
    "\n",
    "df_for_cosine.head()"
   ]
  },
  {
   "cell_type": "code",
   "execution_count": 11,
   "metadata": {},
   "outputs": [
    {
     "data": {
      "text/plain": [
       "array([ 1,  2,  3,  0,  4,  5,  6,  7,  8,  9, 10, 11, 12, 13, 14, 15, 16,\n",
       "       17], dtype=int64)"
      ]
     },
     "execution_count": 11,
     "metadata": {},
     "output_type": "execute_result"
    }
   ],
   "source": [
    "df_for_cosine.lang_code.unique()"
   ]
  },
  {
   "cell_type": "code",
   "execution_count": 31,
   "metadata": {},
   "outputs": [
    {
     "name": "stderr",
     "output_type": "stream",
     "text": [
      "<ipython-input-31-55a7e3550734>:1: SettingWithCopyWarning: \n",
      "A value is trying to be set on a copy of a slice from a DataFrame.\n",
      "Try using .loc[row_indexer,col_indexer] = value instead\n",
      "\n",
      "See the caveats in the documentation: https://pandas.pydata.org/pandas-docs/stable/user_guide/indexing.html#returning-a-view-versus-a-copy\n",
      "  df_for_cosine ['original_publication_year'] = df_for_cosine['original_publication_year'].apply(lambda x: max(1750,x))\n"
     ]
    }
   ],
   "source": [
    "df_for_cosine ['original_publication_year'] = df_for_cosine['original_publication_year'].apply(lambda x: max(1750,x))"
   ]
  },
  {
   "cell_type": "code",
   "execution_count": 32,
   "metadata": {},
   "outputs": [
    {
     "data": {
      "text/html": [
       "<div>\n",
       "<style scoped>\n",
       "    .dataframe tbody tr th:only-of-type {\n",
       "        vertical-align: middle;\n",
       "    }\n",
       "\n",
       "    .dataframe tbody tr th {\n",
       "        vertical-align: top;\n",
       "    }\n",
       "\n",
       "    .dataframe thead th {\n",
       "        text-align: right;\n",
       "    }\n",
       "</style>\n",
       "<table border=\"1\" class=\"dataframe\">\n",
       "  <thead>\n",
       "    <tr style=\"text-align: right;\">\n",
       "      <th></th>\n",
       "      <th>original_publication_year</th>\n",
       "      <th>books_count</th>\n",
       "      <th>best_book_id</th>\n",
       "    </tr>\n",
       "  </thead>\n",
       "  <tbody>\n",
       "    <tr>\n",
       "      <th>count</th>\n",
       "      <td>5000.000000</td>\n",
       "      <td>5000.000000</td>\n",
       "      <td>5.000000e+03</td>\n",
       "    </tr>\n",
       "    <tr>\n",
       "      <th>mean</th>\n",
       "      <td>1987.438200</td>\n",
       "      <td>108.730200</td>\n",
       "      <td>4.748960e+06</td>\n",
       "    </tr>\n",
       "    <tr>\n",
       "      <th>std</th>\n",
       "      <td>44.882106</td>\n",
       "      <td>228.910462</td>\n",
       "      <td>7.332101e+06</td>\n",
       "    </tr>\n",
       "    <tr>\n",
       "      <th>min</th>\n",
       "      <td>1750.000000</td>\n",
       "      <td>1.000000</td>\n",
       "      <td>1.000000e+00</td>\n",
       "    </tr>\n",
       "    <tr>\n",
       "      <th>25%</th>\n",
       "      <td>1987.000000</td>\n",
       "      <td>34.000000</td>\n",
       "      <td>3.119025e+04</td>\n",
       "    </tr>\n",
       "    <tr>\n",
       "      <th>50%</th>\n",
       "      <td>2003.000000</td>\n",
       "      <td>54.000000</td>\n",
       "      <td>2.484835e+05</td>\n",
       "    </tr>\n",
       "    <tr>\n",
       "      <th>75%</th>\n",
       "      <td>2010.000000</td>\n",
       "      <td>88.000000</td>\n",
       "      <td>7.747291e+06</td>\n",
       "    </tr>\n",
       "    <tr>\n",
       "      <th>max</th>\n",
       "      <td>2016.000000</td>\n",
       "      <td>3455.000000</td>\n",
       "      <td>3.553423e+07</td>\n",
       "    </tr>\n",
       "  </tbody>\n",
       "</table>\n",
       "</div>"
      ],
      "text/plain": [
       "       original_publication_year  books_count  best_book_id\n",
       "count                5000.000000  5000.000000  5.000000e+03\n",
       "mean                 1987.438200   108.730200  4.748960e+06\n",
       "std                    44.882106   228.910462  7.332101e+06\n",
       "min                  1750.000000     1.000000  1.000000e+00\n",
       "25%                  1987.000000    34.000000  3.119025e+04\n",
       "50%                  2003.000000    54.000000  2.484835e+05\n",
       "75%                  2010.000000    88.000000  7.747291e+06\n",
       "max                  2016.000000  3455.000000  3.553423e+07"
      ]
     },
     "execution_count": 32,
     "metadata": {},
     "output_type": "execute_result"
    }
   ],
   "source": [
    "df_for_cosine.describe()"
   ]
  },
  {
   "cell_type": "code",
   "execution_count": null,
   "metadata": {},
   "outputs": [],
   "source": [
    "\n",
    "df_for_cosine.sort_values('original_publication_year', ascending=True).head()"
   ]
  },
  {
   "cell_type": "code",
   "execution_count": null,
   "metadata": {},
   "outputs": [],
   "source": [
    "df_for_cosine.sort_index(ascending=True).head()"
   ]
  },
  {
   "cell_type": "code",
   "execution_count": null,
   "metadata": {},
   "outputs": [],
   "source": [
    "import pandas as pd\n",
    "from sklearn import preprocessing\n",
    "\n",
    "x = df_for_cosine.values #returns a numpy array\n",
    "min_max_scaler = preprocessing.MinMaxScaler()\n",
    "x_scaled = min_max_scaler.fit_transform(x)\n",
    "df = pd.DataFrame(x_scaled)\n"
   ]
  },
  {
   "cell_type": "code",
   "execution_count": null,
   "metadata": {},
   "outputs": [],
   "source": [
    "#normalized df_for_cosine\n",
    "cosine_sim = linear_kernel(df, df)\n",
    "print(cosine_sim[2]) \n",
    "print(cosine_sim.shape)\n"
   ]
  },
  {
   "cell_type": "code",
   "execution_count": null,
   "metadata": {},
   "outputs": [],
   "source": [
    "a = pd.DataFrame(cosine_sim)\n",
    "a.head()"
   ]
  },
  {
   "cell_type": "code",
   "execution_count": 33,
   "metadata": {},
   "outputs": [
    {
     "name": "stdout",
     "output_type": "stream",
     "text": [
      "(5000, 5000)\n"
     ]
    },
    {
     "data": {
      "text/html": [
       "<div>\n",
       "<style scoped>\n",
       "    .dataframe tbody tr th:only-of-type {\n",
       "        vertical-align: middle;\n",
       "    }\n",
       "\n",
       "    .dataframe tbody tr th {\n",
       "        vertical-align: top;\n",
       "    }\n",
       "\n",
       "    .dataframe thead th {\n",
       "        text-align: right;\n",
       "    }\n",
       "</style>\n",
       "<table border=\"1\" class=\"dataframe\">\n",
       "  <thead>\n",
       "    <tr style=\"text-align: right;\">\n",
       "      <th></th>\n",
       "      <th>0</th>\n",
       "      <th>1</th>\n",
       "      <th>2</th>\n",
       "      <th>3</th>\n",
       "      <th>4</th>\n",
       "      <th>5</th>\n",
       "      <th>6</th>\n",
       "      <th>7</th>\n",
       "      <th>8</th>\n",
       "      <th>9</th>\n",
       "      <th>...</th>\n",
       "      <th>4990</th>\n",
       "      <th>4991</th>\n",
       "      <th>4992</th>\n",
       "      <th>4993</th>\n",
       "      <th>4994</th>\n",
       "      <th>4995</th>\n",
       "      <th>4996</th>\n",
       "      <th>4997</th>\n",
       "      <th>4998</th>\n",
       "      <th>4999</th>\n",
       "    </tr>\n",
       "  </thead>\n",
       "  <tbody>\n",
       "    <tr>\n",
       "      <th>0</th>\n",
       "      <td>1.000000</td>\n",
       "      <td>0.002187</td>\n",
       "      <td>0.998876</td>\n",
       "      <td>0.796563</td>\n",
       "      <td>0.893251</td>\n",
       "      <td>1.000000</td>\n",
       "      <td>0.939117</td>\n",
       "      <td>0.932400</td>\n",
       "      <td>0.429202</td>\n",
       "      <td>0.435388</td>\n",
       "      <td>...</td>\n",
       "      <td>1.000000</td>\n",
       "      <td>0.994375</td>\n",
       "      <td>0.998979</td>\n",
       "      <td>1.000000</td>\n",
       "      <td>0.999817</td>\n",
       "      <td>0.993948</td>\n",
       "      <td>0.999816</td>\n",
       "      <td>1.000000</td>\n",
       "      <td>1.000000</td>\n",
       "      <td>1.000000</td>\n",
       "    </tr>\n",
       "    <tr>\n",
       "      <th>1</th>\n",
       "      <td>0.002187</td>\n",
       "      <td>1.000000</td>\n",
       "      <td>0.049197</td>\n",
       "      <td>0.606295</td>\n",
       "      <td>0.420555</td>\n",
       "      <td>0.001628</td>\n",
       "      <td>0.337111</td>\n",
       "      <td>0.362848</td>\n",
       "      <td>0.900743</td>\n",
       "      <td>0.597291</td>\n",
       "      <td>...</td>\n",
       "      <td>0.001664</td>\n",
       "      <td>0.105728</td>\n",
       "      <td>0.046250</td>\n",
       "      <td>0.002938</td>\n",
       "      <td>0.020844</td>\n",
       "      <td>0.109054</td>\n",
       "      <td>0.020880</td>\n",
       "      <td>0.001770</td>\n",
       "      <td>0.001652</td>\n",
       "      <td>0.001668</td>\n",
       "    </tr>\n",
       "    <tr>\n",
       "      <th>2</th>\n",
       "      <td>0.998876</td>\n",
       "      <td>0.049197</td>\n",
       "      <td>1.000000</td>\n",
       "      <td>0.824079</td>\n",
       "      <td>0.910925</td>\n",
       "      <td>0.998849</td>\n",
       "      <td>0.953348</td>\n",
       "      <td>0.948443</td>\n",
       "      <td>0.471500</td>\n",
       "      <td>0.458816</td>\n",
       "      <td>...</td>\n",
       "      <td>0.998851</td>\n",
       "      <td>0.998261</td>\n",
       "      <td>0.999988</td>\n",
       "      <td>0.998912</td>\n",
       "      <td>0.999596</td>\n",
       "      <td>0.998011</td>\n",
       "      <td>0.999597</td>\n",
       "      <td>0.998856</td>\n",
       "      <td>0.998850</td>\n",
       "      <td>0.998851</td>\n",
       "    </tr>\n",
       "    <tr>\n",
       "      <th>3</th>\n",
       "      <td>0.796563</td>\n",
       "      <td>0.606295</td>\n",
       "      <td>0.824079</td>\n",
       "      <td>1.000000</td>\n",
       "      <td>0.964851</td>\n",
       "      <td>0.796225</td>\n",
       "      <td>0.950744</td>\n",
       "      <td>0.960811</td>\n",
       "      <td>0.885747</td>\n",
       "      <td>0.708376</td>\n",
       "      <td>...</td>\n",
       "      <td>0.796247</td>\n",
       "      <td>0.854651</td>\n",
       "      <td>0.822374</td>\n",
       "      <td>0.797016</td>\n",
       "      <td>0.807690</td>\n",
       "      <td>0.856318</td>\n",
       "      <td>0.807711</td>\n",
       "      <td>0.796310</td>\n",
       "      <td>0.796239</td>\n",
       "      <td>0.796249</td>\n",
       "    </tr>\n",
       "    <tr>\n",
       "      <th>4</th>\n",
       "      <td>0.893251</td>\n",
       "      <td>0.420555</td>\n",
       "      <td>0.910925</td>\n",
       "      <td>0.964851</td>\n",
       "      <td>1.000000</td>\n",
       "      <td>0.893026</td>\n",
       "      <td>0.991603</td>\n",
       "      <td>0.980437</td>\n",
       "      <td>0.747208</td>\n",
       "      <td>0.749099</td>\n",
       "      <td>...</td>\n",
       "      <td>0.893037</td>\n",
       "      <td>0.927923</td>\n",
       "      <td>0.909158</td>\n",
       "      <td>0.893527</td>\n",
       "      <td>0.900208</td>\n",
       "      <td>0.928429</td>\n",
       "      <td>0.900208</td>\n",
       "      <td>0.893078</td>\n",
       "      <td>0.893032</td>\n",
       "      <td>0.893038</td>\n",
       "    </tr>\n",
       "  </tbody>\n",
       "</table>\n",
       "<p>5 rows × 5000 columns</p>\n",
       "</div>"
      ],
      "text/plain": [
       "       0         1         2         3         4         5         6     \\\n",
       "0  1.000000  0.002187  0.998876  0.796563  0.893251  1.000000  0.939117   \n",
       "1  0.002187  1.000000  0.049197  0.606295  0.420555  0.001628  0.337111   \n",
       "2  0.998876  0.049197  1.000000  0.824079  0.910925  0.998849  0.953348   \n",
       "3  0.796563  0.606295  0.824079  1.000000  0.964851  0.796225  0.950744   \n",
       "4  0.893251  0.420555  0.910925  0.964851  1.000000  0.893026  0.991603   \n",
       "\n",
       "       7         8         9     ...      4990      4991      4992      4993  \\\n",
       "0  0.932400  0.429202  0.435388  ...  1.000000  0.994375  0.998979  1.000000   \n",
       "1  0.362848  0.900743  0.597291  ...  0.001664  0.105728  0.046250  0.002938   \n",
       "2  0.948443  0.471500  0.458816  ...  0.998851  0.998261  0.999988  0.998912   \n",
       "3  0.960811  0.885747  0.708376  ...  0.796247  0.854651  0.822374  0.797016   \n",
       "4  0.980437  0.747208  0.749099  ...  0.893037  0.927923  0.909158  0.893527   \n",
       "\n",
       "       4994      4995      4996      4997      4998      4999  \n",
       "0  0.999817  0.993948  0.999816  1.000000  1.000000  1.000000  \n",
       "1  0.020844  0.109054  0.020880  0.001770  0.001652  0.001668  \n",
       "2  0.999596  0.998011  0.999597  0.998856  0.998850  0.998851  \n",
       "3  0.807690  0.856318  0.807711  0.796310  0.796239  0.796249  \n",
       "4  0.900208  0.928429  0.900208  0.893078  0.893032  0.893038  \n",
       "\n",
       "[5 rows x 5000 columns]"
      ]
     },
     "execution_count": 33,
     "metadata": {},
     "output_type": "execute_result"
    }
   ],
   "source": [
    "from sklearn.metrics.pairwise import pairwise_distances\n",
    "\n",
    "cosine_sim = 1-pairwise_distances(df_for_cosine, metric='cosine')\n",
    "print(cosine_sim.shape)\n",
    "cosine_sim = pd.DataFrame(cosine_sim).round(6)\n",
    "cosine_sim.head()"
   ]
  },
  {
   "cell_type": "code",
   "execution_count": 15,
   "metadata": {},
   "outputs": [
    {
     "data": {
      "text/plain": [
       "[4999]"
      ]
     },
     "execution_count": 15,
     "metadata": {},
     "output_type": "execute_result"
    }
   ],
   "source": [
    "books.index[books['original_title'] == 'Bite Club' ].tolist()"
   ]
  },
  {
   "cell_type": "code",
   "execution_count": 40,
   "metadata": {},
   "outputs": [],
   "source": [
    "\n",
    "# # Function that takes in movie title as input and outputs most similar movies\n",
    "def get_recommendations(book_name, cosine_sim=cosine_sim,k=1):\n",
    "    # Get the index of the movie that matches the title\n",
    "    #idx = books['original_title'] = book_name\n",
    "    idx = books.index[books['original_title'] == book_name].tolist()[0]\n",
    "    print(idx)\n",
    "\n",
    "\n",
    "    # Get the pairwsie similarity scores of all movies with that movie\n",
    "    sim_scores = list(enumerate(cosine_sim[idx]))\n",
    "\n",
    "    # Sort the books based on the similarity scores\n",
    "    sim_scores = sorted(sim_scores, key=lambda x: x[1], reverse=True)\n",
    "   # print(sim_scores)\n",
    "\n",
    "    # Get the scores of the 10 most similar books (the first is the movie we asked)\n",
    "    sim_scores = sim_scores[1:k+1]\n",
    "\n",
    "    # Get the books indices\n",
    "    book_indices = [i[0] for i in sim_scores]\n",
    "    print(book_indices)\n",
    "\n",
    "    # Return the top 10 most similar books\n",
    "    return books['original_title'].iloc[book_indices]"
   ]
  },
  {
   "cell_type": "code",
   "execution_count": 41,
   "metadata": {},
   "outputs": [
    {
     "name": "stdout",
     "output_type": "stream",
     "text": [
      "2\n",
      "[431, 183, 231, 299, 416, 468, 1689, 1908, 2041, 204]\n"
     ]
    },
    {
     "data": {
      "text/plain": [
       "431                                    I, Robot\n",
       "183                                     Matilda\n",
       "231                              The Gunslinger\n",
       "299              The Boy in the Striped Pyjamas\n",
       "416                         The Thirteenth Tale\n",
       "468     Fantastic Beasts and Where to Find Them\n",
       "1689                           The Jungle Books\n",
       "1908                         The Caves of Steel\n",
       "2041                       The Valley of Horses\n",
       "204                  Interview with the Vampire\n",
       "Name: original_title, dtype: object"
      ]
     },
     "execution_count": 41,
     "metadata": {},
     "output_type": "execute_result"
    }
   ],
   "source": [
    "get_recommendations('Twilight', cosine_sim=cosine_sim,k=10)"
   ]
  },
  {
   "cell_type": "code",
   "execution_count": 36,
   "metadata": {},
   "outputs": [
    {
     "name": "stdout",
     "output_type": "stream",
     "text": [
      "1\n",
      "[18, 188, 17, 23, 20, 26, 1777, 637, 93]\n"
     ]
    },
    {
     "data": {
      "text/plain": [
       "18                     The Fellowship of the Ring\n",
       "188                         The Lord of the Rings\n",
       "17       Harry Potter and the Prisoner of Azkaban\n",
       "23            Harry Potter and the Goblet of Fire\n",
       "20      Harry Potter and the Order of the Phoenix\n",
       "26         Harry Potter and the Half-Blood Prince\n",
       "1777                       The Portrait of a Lady\n",
       "637                                         Heidi\n",
       "93                    Cien aֳƒֲƒֳ‚ֲ±os de soledad\n",
       "Name: original_title, dtype: object"
      ]
     },
     "execution_count": 36,
     "metadata": {},
     "output_type": "execute_result"
    }
   ],
   "source": [
    "get_recommendations('Harry Potter and the Philosopher\\'s Stone', cosine_sim=cosine_sim,k=10)"
   ]
  },
  {
   "cell_type": "code",
   "execution_count": 38,
   "metadata": {},
   "outputs": [
    {
     "name": "stdout",
     "output_type": "stream",
     "text": [
      "431\n",
      "[2, 231, 1689, 204, 1908, 2101, 45, 468, 1187]\n"
     ]
    },
    {
     "data": {
      "text/plain": [
       "2                                                Twilight\n",
       "231                                        The Gunslinger\n",
       "1689                                     The Jungle Books\n",
       "204                            Interview with the Vampire\n",
       "1908                                   The Caves of Steel\n",
       "2101                              Suite franֳƒֲƒֳ‚ֲ§aise \n",
       "45                                    Water for Elephants\n",
       "468               Fantastic Beasts and Where to Find Them\n",
       "1187    The Monk Who Sold His Ferrari: A Fable About F...\n",
       "Name: original_title, dtype: object"
      ]
     },
     "execution_count": 38,
     "metadata": {},
     "output_type": "execute_result"
    }
   ],
   "source": [
    "get_recommendations('I, Robot', cosine_sim=cosine_sim,k=10)"
   ]
  },
  {
   "cell_type": "code",
   "execution_count": null,
   "metadata": {},
   "outputs": [],
   "source": [
    "get_recommendations('When Breath Becomes Air', cosine_sim=cosine_sim,k=10)"
   ]
  },
  {
   "cell_type": "code",
   "execution_count": null,
   "metadata": {},
   "outputs": [],
   "source": [
    "books.index[books['original_title'] == 'When Breath Becomes Air' ].tolist()"
   ]
  },
  {
   "cell_type": "code",
   "execution_count": 37,
   "metadata": {},
   "outputs": [
    {
     "name": "stdout",
     "output_type": "stream",
     "text": [
      "4864\n",
      "[5, 11, 15, 16, 19, 21, 29, 30, 33]\n"
     ]
    },
    {
     "data": {
      "text/plain": [
       "5           The Fault in Our Stars\n",
       "11                       Divergent\n",
       "15    Mֳƒֲƒֳ‚ֲ₪n som hatar kvinnor\n",
       "16                   Catching Fire\n",
       "19                      Mockingjay\n",
       "21                The Lovely Bones\n",
       "29                       Gone Girl\n",
       "30                        The Help\n",
       "33            Fifty Shades of Grey\n",
       "Name: original_title, dtype: object"
      ]
     },
     "execution_count": 37,
     "metadata": {},
     "output_type": "execute_result"
    }
   ],
   "source": [
    "get_recommendations('Magic Rises', cosine_sim=cosine_sim,k=10)"
   ]
  },
  {
   "cell_type": "code",
   "execution_count": null,
   "metadata": {},
   "outputs": [],
   "source": []
  }
 ],
 "metadata": {
  "kernelspec": {
   "display_name": "Python 3",
   "language": "python",
   "name": "python3"
  },
  "language_info": {
   "codemirror_mode": {
    "name": "ipython",
    "version": 3
   },
   "file_extension": ".py",
   "mimetype": "text/x-python",
   "name": "python",
   "nbconvert_exporter": "python",
   "pygments_lexer": "ipython3",
   "version": "3.8.3"
  }
 },
 "nbformat": 4,
 "nbformat_minor": 4
}
